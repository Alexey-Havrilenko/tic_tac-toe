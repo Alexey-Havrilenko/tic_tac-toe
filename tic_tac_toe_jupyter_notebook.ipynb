{
 "cells": [
  {
   "cell_type": "code",
   "execution_count": 158,
   "id": "4636f835",
   "metadata": {},
   "outputs": [],
   "source": [
    "def print_board(row_list):    \n",
    "    \n",
    "    for row in row_list:\n",
    "        print(row)"
   ]
  },
  {
   "cell_type": "code",
   "execution_count": 159,
   "id": "0173a9a6",
   "metadata": {},
   "outputs": [],
   "source": [
    "def update_row(row, user_moves):\n",
    "\n",
    "    row_listed = list(row) \n",
    "    \n",
    "    row_listed[3] = int_to_symbol(user_moves[0])\n",
    "    row_listed[13] = int_to_symbol(user_moves[1])\n",
    "    row_listed[23] = int_to_symbol(user_moves[2]) \n",
    "    \n",
    "    row_restrung = ''.join(row_listed)    \n",
    "        \n",
    "    return row_restrung\n",
    "\n",
    "\n",
    "def int_to_symbol(num):\n",
    "    \n",
    "    if num == 0:\n",
    "        return ' '\n",
    "    elif num == 1:\n",
    "        return 'X'\n",
    "    elif num == 2:\n",
    "        return 'O'\n",
    "    else:\n",
    "        return '?'"
   ]
  },
  {
   "cell_type": "code",
   "execution_count": 162,
   "id": "528a9b53",
   "metadata": {},
   "outputs": [
    {
     "name": "stdout",
     "output_type": "stream",
     "text": [
      "        |         |        \n",
      "   X    |    O    |    X   \n",
      "        |         |        \n",
      "--------|---------|--------\n",
      "        |         |        \n",
      "        |    O    |        \n",
      "        |         |        \n",
      "--------|---------|--------\n",
      "        |         |        \n",
      "   X    |         |        \n",
      "        |         |        \n"
     ]
    }
   ],
   "source": [
    "row0  = ('        |         |        ')\n",
    "row1  = ('        |         |        ')\n",
    "row2  = ('        |         |        ')\n",
    "row3  = ('--------|---------|--------')\n",
    "row4  = ('        |         |        ')\n",
    "row5  = ('        |         |        ')\n",
    "row6  = ('        |         |        ')\n",
    "row7  = ('--------|---------|--------')\n",
    "row8  = ('        |         |        ')\n",
    "row9  = ('        |         |        ')\n",
    "row10 = ('        |         |        ')\n",
    "\n",
    "row_list = [row0,row1,row2,row3,row4,row5,row6,row7,row8,row9,row10]\n",
    "user_moves = [[1,2,1], [0,2,0], [1,0,0]]\n",
    "\n",
    "game = True\n",
    "\n",
    "\n",
    "while game == True:\n",
    "\n",
    "    row_list[1] = update_row(row_list[1], user_moves[0])\n",
    "    row_list[5] = update_row(row_list[5], user_moves[1])\n",
    "    row_list[9] = update_row(row_list[9], user_moves[2])\n",
    "    \n",
    "    print_board(row_list)\n",
    "    \n",
    "    game = False\n",
    "    \n",
    "    "
   ]
  },
  {
   "cell_type": "code",
   "execution_count": null,
   "id": "92d27014",
   "metadata": {},
   "outputs": [],
   "source": []
  }
 ],
 "metadata": {
  "kernelspec": {
   "display_name": "Python 3",
   "language": "python",
   "name": "python3"
  },
  "language_info": {
   "codemirror_mode": {
    "name": "ipython",
    "version": 3
   },
   "file_extension": ".py",
   "mimetype": "text/x-python",
   "name": "python",
   "nbconvert_exporter": "python",
   "pygments_lexer": "ipython3",
   "version": "3.8.8"
  }
 },
 "nbformat": 4,
 "nbformat_minor": 5
}
