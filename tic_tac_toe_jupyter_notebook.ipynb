{
 "cells": [
  {
   "cell_type": "code",
   "execution_count": 81,
   "id": "801bfdd4",
   "metadata": {},
   "outputs": [],
   "source": [
    "#TicTacToe\n",
    "\n",
    "\n",
    "#\"map\" is a list of \"squares\", with integers representing the value of the square.\n",
    "#\"board\" is made up of \"rows\" of strings of data to print a visual representation of the board.\n"
   ]
  },
  {
   "cell_type": "code",
   "execution_count": 82,
   "id": "4636f835",
   "metadata": {},
   "outputs": [],
   "source": [
    "def print_board(board):    \n",
    "    \n",
    "    for row in board:\n",
    "        print(row)\n",
    "  \n",
    "\n",
    "def update_board(move_map, board):\n",
    "    \n",
    "    board[1] = update_row(move_map[0], board[1])    \n",
    "    board[5] = update_row(move_map[1], board[5])\n",
    "    board[9] = update_row(move_map[2], board[9])\n",
    "    \n",
    "    return board\n",
    "\n",
    "    \n",
    "def update_row(move_map, board_row):\n",
    "\n",
    "    board_row_listed = list(board_row) \n",
    "    \n",
    "    board_row_listed[3] = int_to_symbol(move_map[0])\n",
    "    board_row_listed[13] = int_to_symbol(move_map[1])\n",
    "    board_row_listed[23] = int_to_symbol(move_map[2]) \n",
    "    \n",
    "    board_rejoined = ''.join(board_row_listed)    \n",
    "        \n",
    "    return board_rejoined\n",
    "\n",
    "\n",
    "def int_to_symbol(num):\n",
    "    \n",
    "    if num == 0:\n",
    "        return ' '\n",
    "    elif num == 1:\n",
    "        return 'X'\n",
    "    elif num == 2:\n",
    "        return 'O'\n",
    "    else:\n",
    "        return '?'"
   ]
  },
  {
   "cell_type": "code",
   "execution_count": 83,
   "id": "74b02c49",
   "metadata": {},
   "outputs": [],
   "source": [
    "def check_win(move_map):\n",
    "    \n",
    "    cross_won = check_three(user_moves, 1)\n",
    "    circle_won = check_three(user_moves, 2)\n",
    "    \n",
    "    if cross_won:\n",
    "        print('cross won')\n",
    "    if circle_won:\n",
    "        print('circle won')\n",
    "    \n",
    "    \n",
    "def check_three(move_map, num):\n",
    "    \n",
    "    three = [False]*8\n",
    "    \n",
    "    three[0] = move_map[0][0] == move_map[0][1] == move_map[0][2] == num\n",
    "    three[1] = move_map[1][0] == move_map[1][1] == move_map[1][2] == num\n",
    "    three[2] = move_map[2][0] == move_map[2][1] == move_map[1][2] == num\n",
    "    \n",
    "    three[3] = move_map[0][0] == move_map[1][0] == move_map[2][0] == num\n",
    "    three[4] = move_map[0][1] == move_map[1][1] == move_map[2][1] == num\n",
    "    three[5] = move_map[0][2] == move_map[1][2] == move_map[2][2] == num\n",
    "    \n",
    "    three[6] = move_map[0][0] == move_map[1][1] == move_map[2][2] == num\n",
    "    three[7] = move_map[0][2] == move_map[1][1] == move_map[2][0] == num\n",
    "    \n",
    "    for win in three:\n",
    "        if win == True:\n",
    "            return True\n",
    "    \n",
    "    return False"
   ]
  },
  {
   "cell_type": "code",
   "execution_count": 84,
   "id": "528a9b53",
   "metadata": {},
   "outputs": [
    {
     "name": "stdout",
     "output_type": "stream",
     "text": [
      "        |         |        \n",
      "   X    |    O    |    X   \n",
      "        |         |        \n",
      "--------|---------|--------\n",
      "        |         |        \n",
      "        |    O    |        \n",
      "        |         |        \n",
      "--------|---------|--------\n",
      "        |         |        \n",
      "   X    |    O    |        \n",
      "        |         |        \n",
      "circle won\n"
     ]
    }
   ],
   "source": [
    "row0  = ('        |         |        ')\n",
    "row1  = ('        |         |        ')\n",
    "row2  = ('        |         |        ')\n",
    "row3  = ('--------|---------|--------')\n",
    "row4  = ('        |         |        ')\n",
    "row5  = ('        |         |        ')\n",
    "row6  = ('        |         |        ')\n",
    "row7  = ('--------|---------|--------')\n",
    "row8  = ('        |         |        ')\n",
    "row9  = ('        |         |        ')\n",
    "row10 = ('        |         |        ')\n",
    "\n",
    "move_map = [[1,2,1], [0,2,0], [1,2,0]]\n",
    "board = [row0,row1,row2,row3,row4,row5,row6,row7,row8,row9,row10]\n",
    "\n",
    "game = True\n",
    "\n",
    "\n",
    "while game == True:\n",
    "\n",
    "    update_board(move_map, board)\n",
    "    print_board(board)\n",
    "    check_win(move_map)\n",
    "    \n",
    "    game = False\n",
    "    \n",
    "    "
   ]
  },
  {
   "cell_type": "code",
   "execution_count": null,
   "id": "92d27014",
   "metadata": {},
   "outputs": [],
   "source": []
  },
  {
   "cell_type": "code",
   "execution_count": null,
   "id": "c083f1e1",
   "metadata": {},
   "outputs": [],
   "source": []
  },
  {
   "cell_type": "code",
   "execution_count": null,
   "id": "d1ecbf19",
   "metadata": {},
   "outputs": [],
   "source": []
  }
 ],
 "metadata": {
  "kernelspec": {
   "display_name": "Python 3",
   "language": "python",
   "name": "python3"
  },
  "language_info": {
   "codemirror_mode": {
    "name": "ipython",
    "version": 3
   },
   "file_extension": ".py",
   "mimetype": "text/x-python",
   "name": "python",
   "nbconvert_exporter": "python",
   "pygments_lexer": "ipython3",
   "version": "3.8.8"
  }
 },
 "nbformat": 4,
 "nbformat_minor": 5
}
